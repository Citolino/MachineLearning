{
 "cells": [
  {
   "cell_type": "markdown",
   "id": "3127648e",
   "metadata": {},
   "source": [
    "IMPORTA CSV E LE "
   ]
  },
  {
   "cell_type": "code",
   "execution_count": 4,
   "id": "2caa7204",
   "metadata": {},
   "outputs": [
    {
     "data": {
      "text/html": [
       "<div>\n",
       "<style scoped>\n",
       "    .dataframe tbody tr th:only-of-type {\n",
       "        vertical-align: middle;\n",
       "    }\n",
       "\n",
       "    .dataframe tbody tr th {\n",
       "        vertical-align: top;\n",
       "    }\n",
       "\n",
       "    .dataframe thead th {\n",
       "        text-align: right;\n",
       "    }\n",
       "</style>\n",
       "<table border=\"1\" class=\"dataframe\">\n",
       "  <thead>\n",
       "    <tr style=\"text-align: right;\">\n",
       "      <th></th>\n",
       "      <th>home</th>\n",
       "      <th>how_it_works</th>\n",
       "      <th>contact</th>\n",
       "      <th>bought</th>\n",
       "    </tr>\n",
       "  </thead>\n",
       "  <tbody>\n",
       "    <tr>\n",
       "      <th>0</th>\n",
       "      <td>1</td>\n",
       "      <td>1</td>\n",
       "      <td>0</td>\n",
       "      <td>0</td>\n",
       "    </tr>\n",
       "    <tr>\n",
       "      <th>1</th>\n",
       "      <td>1</td>\n",
       "      <td>1</td>\n",
       "      <td>0</td>\n",
       "      <td>0</td>\n",
       "    </tr>\n",
       "    <tr>\n",
       "      <th>2</th>\n",
       "      <td>1</td>\n",
       "      <td>1</td>\n",
       "      <td>0</td>\n",
       "      <td>0</td>\n",
       "    </tr>\n",
       "    <tr>\n",
       "      <th>3</th>\n",
       "      <td>1</td>\n",
       "      <td>1</td>\n",
       "      <td>0</td>\n",
       "      <td>0</td>\n",
       "    </tr>\n",
       "    <tr>\n",
       "      <th>4</th>\n",
       "      <td>1</td>\n",
       "      <td>1</td>\n",
       "      <td>0</td>\n",
       "      <td>0</td>\n",
       "    </tr>\n",
       "  </tbody>\n",
       "</table>\n",
       "</div>"
      ],
      "text/plain": [
       "   home  how_it_works  contact  bought\n",
       "0     1             1        0       0\n",
       "1     1             1        0       0\n",
       "2     1             1        0       0\n",
       "3     1             1        0       0\n",
       "4     1             1        0       0"
      ]
     },
     "execution_count": 4,
     "metadata": {},
     "output_type": "execute_result"
    }
   ],
   "source": [
    "import pandas as pd\n",
    "\n",
    "uri = \"https://gist.githubusercontent.com/guilhermesilveira/2d2efa37d66b6c84a722ea627a897ced/raw/10968b997d885cbded1c92938c7a9912ba41c615/tracking.csv\"\n",
    "dados = pd.read_csv(uri)\n",
    "dados.head()"
   ]
  },
  {
   "cell_type": "markdown",
   "id": "386ed851",
   "metadata": {},
   "source": [
    "RENOMEAR O NOME DAS COLUNAS"
   ]
  },
  {
   "cell_type": "code",
   "execution_count": 13,
   "id": "a3850975",
   "metadata": {},
   "outputs": [],
   "source": [
    "mapa = {\"home\" : \"inicio\",\n",
    "        \"how_it_works\" : \"como_funciona\",\n",
    "        \"contact\" : \"contato\",\n",
    "        \"bought\": \"comprou\"}\n",
    "dados = dados.rename(columns=mapa)"
   ]
  },
  {
   "cell_type": "code",
   "execution_count": 16,
   "id": "6c785c76",
   "metadata": {},
   "outputs": [
    {
     "data": {
      "text/html": [
       "<div>\n",
       "<style scoped>\n",
       "    .dataframe tbody tr th:only-of-type {\n",
       "        vertical-align: middle;\n",
       "    }\n",
       "\n",
       "    .dataframe tbody tr th {\n",
       "        vertical-align: top;\n",
       "    }\n",
       "\n",
       "    .dataframe thead th {\n",
       "        text-align: right;\n",
       "    }\n",
       "</style>\n",
       "<table border=\"1\" class=\"dataframe\">\n",
       "  <thead>\n",
       "    <tr style=\"text-align: right;\">\n",
       "      <th></th>\n",
       "      <th>inicio</th>\n",
       "      <th>como_funciona</th>\n",
       "      <th>contato</th>\n",
       "    </tr>\n",
       "  </thead>\n",
       "  <tbody>\n",
       "    <tr>\n",
       "      <th>0</th>\n",
       "      <td>1</td>\n",
       "      <td>1</td>\n",
       "      <td>0</td>\n",
       "    </tr>\n",
       "    <tr>\n",
       "      <th>1</th>\n",
       "      <td>1</td>\n",
       "      <td>1</td>\n",
       "      <td>0</td>\n",
       "    </tr>\n",
       "    <tr>\n",
       "      <th>2</th>\n",
       "      <td>1</td>\n",
       "      <td>1</td>\n",
       "      <td>0</td>\n",
       "    </tr>\n",
       "    <tr>\n",
       "      <th>3</th>\n",
       "      <td>1</td>\n",
       "      <td>1</td>\n",
       "      <td>0</td>\n",
       "    </tr>\n",
       "    <tr>\n",
       "      <th>4</th>\n",
       "      <td>1</td>\n",
       "      <td>1</td>\n",
       "      <td>0</td>\n",
       "    </tr>\n",
       "    <tr>\n",
       "      <th>...</th>\n",
       "      <td>...</td>\n",
       "      <td>...</td>\n",
       "      <td>...</td>\n",
       "    </tr>\n",
       "    <tr>\n",
       "      <th>94</th>\n",
       "      <td>0</td>\n",
       "      <td>0</td>\n",
       "      <td>1</td>\n",
       "    </tr>\n",
       "    <tr>\n",
       "      <th>95</th>\n",
       "      <td>1</td>\n",
       "      <td>1</td>\n",
       "      <td>1</td>\n",
       "    </tr>\n",
       "    <tr>\n",
       "      <th>96</th>\n",
       "      <td>0</td>\n",
       "      <td>0</td>\n",
       "      <td>1</td>\n",
       "    </tr>\n",
       "    <tr>\n",
       "      <th>97</th>\n",
       "      <td>0</td>\n",
       "      <td>1</td>\n",
       "      <td>0</td>\n",
       "    </tr>\n",
       "    <tr>\n",
       "      <th>98</th>\n",
       "      <td>0</td>\n",
       "      <td>0</td>\n",
       "      <td>0</td>\n",
       "    </tr>\n",
       "  </tbody>\n",
       "</table>\n",
       "<p>99 rows × 3 columns</p>\n",
       "</div>"
      ],
      "text/plain": [
       "    inicio  como_funciona  contato\n",
       "0        1              1        0\n",
       "1        1              1        0\n",
       "2        1              1        0\n",
       "3        1              1        0\n",
       "4        1              1        0\n",
       "..     ...            ...      ...\n",
       "94       0              0        1\n",
       "95       1              1        1\n",
       "96       0              0        1\n",
       "97       0              1        0\n",
       "98       0              0        0\n",
       "\n",
       "[99 rows x 3 columns]"
      ]
     },
     "execution_count": 16,
     "metadata": {},
     "output_type": "execute_result"
    }
   ],
   "source": [
    "x = dados[[\"inicio\",\"como_funciona\",\"contato\"]]\n",
    "y = dados[\"comprou\"]\n",
    "y\n",
    "x\n"
   ]
  },
  {
   "cell_type": "markdown",
   "id": "c403f0b1",
   "metadata": {},
   "source": [
    "FAZENDO O SPLIT MANUAL PARA SEPARAR OS TREINOS E OS TESTE"
   ]
  },
  {
   "cell_type": "code",
   "execution_count": 17,
   "id": "7d9db3e8",
   "metadata": {},
   "outputs": [
    {
     "data": {
      "text/plain": [
       "(99, 4)"
      ]
     },
     "execution_count": 17,
     "metadata": {},
     "output_type": "execute_result"
    }
   ],
   "source": [
    "dados.shape"
   ]
  },
  {
   "cell_type": "code",
   "execution_count": 18,
   "id": "001aa1c3",
   "metadata": {},
   "outputs": [
    {
     "data": {
      "text/plain": [
       "(75, 3)"
      ]
     },
     "execution_count": 18,
     "metadata": {},
     "output_type": "execute_result"
    }
   ],
   "source": [
    "treino_x = x[:75]\n",
    "treino_x.shape"
   ]
  },
  {
   "cell_type": "code",
   "execution_count": 19,
   "id": "ccf1d399",
   "metadata": {},
   "outputs": [
    {
     "data": {
      "text/plain": [
       "(75,)"
      ]
     },
     "execution_count": 19,
     "metadata": {},
     "output_type": "execute_result"
    }
   ],
   "source": [
    "treino_y = y[0:75]\n",
    "treino_y.shape"
   ]
  },
  {
   "cell_type": "code",
   "execution_count": 20,
   "id": "d05f217b",
   "metadata": {},
   "outputs": [
    {
     "data": {
      "text/plain": [
       "(24, 3)"
      ]
     },
     "execution_count": 20,
     "metadata": {},
     "output_type": "execute_result"
    }
   ],
   "source": [
    "teste_x = x[75:]\n",
    "teste_x.shape"
   ]
  },
  {
   "cell_type": "code",
   "execution_count": 21,
   "id": "39cd6c39",
   "metadata": {},
   "outputs": [
    {
     "data": {
      "text/plain": [
       "(24,)"
      ]
     },
     "execution_count": 21,
     "metadata": {},
     "output_type": "execute_result"
    }
   ],
   "source": [
    "teste_y = y[75:]\n",
    "teste_y.shape"
   ]
  },
  {
   "cell_type": "markdown",
   "id": "a77f78fe",
   "metadata": {},
   "source": [
    "TREINANDO OS DADOS"
   ]
  },
  {
   "cell_type": "code",
   "execution_count": 22,
   "id": "68cd7b0e",
   "metadata": {},
   "outputs": [
    {
     "data": {
      "text/plain": [
       "LinearSVC()"
      ]
     },
     "execution_count": 22,
     "metadata": {},
     "output_type": "execute_result"
    }
   ],
   "source": [
    "from sklearn.svm import LinearSVC\n",
    "\n",
    "modelo = LinearSVC()\n",
    "modelo.fit(treino_x,treino_y)"
   ]
  },
  {
   "cell_type": "markdown",
   "id": "bd19a0bf",
   "metadata": {},
   "source": [
    "FAZENDO PREVISÕES COM OS TESTE"
   ]
  },
  {
   "cell_type": "code",
   "execution_count": 23,
   "id": "85f618d0",
   "metadata": {},
   "outputs": [],
   "source": [
    "previsoes = modelo.predict(teste_x)"
   ]
  },
  {
   "cell_type": "code",
   "execution_count": 25,
   "id": "dbb140f6",
   "metadata": {},
   "outputs": [],
   "source": [
    "from sklearn.metrics import accuracy_score\n",
    "\n",
    "acuracia = accuracy_score(teste_y,previsoes)"
   ]
  },
  {
   "cell_type": "code",
   "execution_count": 29,
   "id": "ad9c84dc",
   "metadata": {},
   "outputs": [
    {
     "name": "stdout",
     "output_type": "stream",
     "text": [
      "O algoritimo acertou : 96.0 %\n"
     ]
    }
   ],
   "source": [
    "print(\"O algoritimo acertou :\", round(acuracia,2)*100 , \"%\")"
   ]
  },
  {
   "cell_type": "markdown",
   "id": "deaafacf",
   "metadata": {},
   "source": [
    "FAZENDO O TREIN E O TESTE COM A BIBLIOTECA TRAIN_TEST_SPLIT STRATIFY PARA MANTER A PROPORÇÃO"
   ]
  },
  {
   "cell_type": "code",
   "execution_count": 108,
   "id": "c0adbb2c",
   "metadata": {},
   "outputs": [
    {
     "name": "stdout",
     "output_type": "stream",
     "text": [
      "O algoritimo acertou : 96.0 %\n"
     ]
    }
   ],
   "source": [
    "from sklearn.model_selection import train_test_split\n",
    "SEED = 20\n",
    "\n",
    "treino_x,teste_x,treino_y,teste_y = train_test_split(x,y,test_size = 0.25,random_state = SEED, stratify = y)\n",
    "\n",
    "from sklearn.svm import LinearSVC\n",
    "\n",
    "modelo = LinearSVC()\n",
    "modelo.fit(treino_x,treino_y)\n",
    "\n",
    "previsoes = modelo.predict(teste_x)\n",
    "\n",
    "from sklearn.metrics import accuracy_score\n",
    "\n",
    "#MEDINDO A ACURÁCIA\n",
    "acuracia = accuracy_score(teste_y,previsoes)\n",
    "\n",
    "print(\"O algoritimo acertou :\", round(acuracia,2)*100 , \"%\")"
   ]
  },
  {
   "cell_type": "markdown",
   "id": "9907416b",
   "metadata": {},
   "source": [
    " Métricas para validação do modelo :"
   ]
  },
  {
   "cell_type": "code",
   "execution_count": 71,
   "id": "8fd80e3f",
   "metadata": {},
   "outputs": [
    {
     "name": "stdout",
     "output_type": "stream",
     "text": [
      "MAE: 0.04\n",
      "MSE: 0.04\n",
      "RMSE: 0.2\n"
     ]
    }
   ],
   "source": [
    "import numpy as np\n",
    "import matplotlib.pyplot as plt\n",
    "from sklearn import metrics\n",
    "print('MAE:', metrics.mean_absolute_error(teste_y, previsoes))\n",
    "print('MSE:', metrics.mean_squared_error(teste_y, previsoes))\n",
    "print('RMSE:', np.sqrt(metrics.mean_squared_error(teste_y, previsoes)))"
   ]
  },
  {
   "cell_type": "markdown",
   "id": "39ae7536",
   "metadata": {},
   "source": [
    "GRAFICO REAL E ESTIMADO\n"
   ]
  },
  {
   "cell_type": "code",
   "execution_count": 74,
   "id": "b0e4d23f",
   "metadata": {},
   "outputs": [
    {
     "data": {
      "text/plain": [
       "Text(0, 0.5, 'Y Estimado')"
      ]
     },
     "execution_count": 74,
     "metadata": {},
     "output_type": "execute_result"
    },
    {
     "data": {
      "image/png": "[encoded data removed]",
      "text/plain": [
       "<Figure size 432x288 with 1 Axes>"
      ]
     },
     "metadata": {
      "needs_background": "light"
     },
     "output_type": "display_data"
    }
   ],
   "source": [
    "plt.scatter(teste_y,previsoes)\n",
    "plt.xlabel('Y Real')\n",
    "plt.ylabel('Y Estimado')\n"
   ]
  },
  {
   "cell_type": "markdown",
   "id": "e22ee028",
   "metadata": {},
   "source": [
    "EXEMPLO ENTRADA DE APÍ"
   ]
  },
  {
   "cell_type": "code",
   "execution_count": 106,
   "id": "b6582141",
   "metadata": {},
   "outputs": [
    {
     "name": "stdout",
     "output_type": "stream",
     "text": [
      "Esse cliente comprou\n"
     ]
    }
   ],
   "source": [
    "inicio = 1\n",
    "\n",
    "como_funciona = 0\n",
    "\n",
    "contato = 1\n",
    "\n",
    "new_client = np.array([inicio, como_funciona, contato]).reshape(1,-1)\n",
    "\n",
    "predição = modelo.predict(new_client)\n",
    "\n",
    "if predição == 1 :\n",
    "    print(\"Esse cliente comprou\")\n",
    "else:\n",
    "    print(\"Esse cliente não comprou\")\n",
    "    \n"
   ]
  }
 ],
 "metadata": {
  "kernelspec": {
   "display_name": "Python 3",
   "language": "python",
   "name": "python3"
  },
  "language_info": {
   "codemirror_mode": {
    "name": "ipython",
    "version": 3
   },
   "file_extension": ".py",
   "mimetype": "text/x-python",
   "name": "python",
   "nbconvert_exporter": "python",
   "pygments_lexer": "ipython3",
   "version": "3.8.8"
  }
 },
 "nbformat": 4,
 "nbformat_minor": 5
}
